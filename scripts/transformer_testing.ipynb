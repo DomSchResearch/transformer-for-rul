{
 "cells": [
  {
   "cell_type": "markdown",
   "metadata": {},
   "source": [
    "# Model inference pipeline"
   ]
  },
  {
   "cell_type": "markdown",
   "metadata": {},
   "source": [
    "### Import of necessary python modules"
   ]
  },
  {
   "cell_type": "code",
   "execution_count": null,
   "metadata": {},
   "outputs": [],
   "source": [
    "import wandb\n",
    "import h5py\n",
    "import os\n",
    "import torch\n",
    "import numpy as np\n",
    "from torch.utils.data import DataLoader, TensorDataset\n",
    "from lightning.pytorch import Trainer\n",
    "from lightning.pytorch.loggers import WandbLogger\n",
    "import sys\n",
    "sys.path.append(\"../model\")\n",
    "import vanilla_transformer\n",
    "import matplotlib.pyplot as plt"
   ]
  },
  {
   "cell_type": "markdown",
   "metadata": {},
   "source": [
    "### Weights & Biases"
   ]
  },
  {
   "cell_type": "code",
   "execution_count": null,
   "metadata": {},
   "outputs": [],
   "source": [
    "wandb.login()"
   ]
  },
  {
   "cell_type": "markdown",
   "metadata": {},
   "source": [
    "### Defining hyperparameters"
   ]
  },
  {
   "cell_type": "code",
   "execution_count": null,
   "metadata": {},
   "outputs": [],
   "source": [
    "cwd = \"../data\"\n",
    "subdataset = \"FD001\"\n",
    "unit = 24\n",
    "RUL_max = 125\n",
    "ci = 0.1"
   ]
  },
  {
   "cell_type": "markdown",
   "metadata": {},
   "source": [
    "### Loading the test dataset"
   ]
  },
  {
   "cell_type": "code",
   "execution_count": null,
   "metadata": {},
   "outputs": [],
   "source": [
    "save_dir = f\"{cwd}/{subdataset}/RTF.h5\"\n",
    "database = h5py.File(save_dir, \"r\")\n",
    "\n",
    "rtf_set = TensorDataset(\n",
    "    torch.tensor(np.array(database[\"RTF_X\"]), dtype=torch.float),\n",
    "    torch.tensor(np.array(database[\"RTF_Y\"]), dtype=torch.float)\n",
    ")\n",
    "\n",
    "rtf_loader = DataLoader(\n",
    "    rtf_set,\n",
    "    batch_size=256,\n",
    "    num_workers=4\n",
    ")"
   ]
  },
  {
   "cell_type": "code",
   "execution_count": null,
   "metadata": {},
   "outputs": [],
   "source": [
    "# Configuration for the run\n",
    "config = {\n",
    "    \"model\": \"best_model:latest\"\n",
    "}\n",
    "\n",
    "# Initialize a new run\n",
    "with wandb.init(\n",
    "    project=\"RUL Prediction\",\n",
    "    job_type=\"inference\",\n",
    "    notes=\"Testing Vanilla Transformer for RUL prediction\",\n",
    "    tags=[\"baseline\", \"Vanilla\", \"RUL\"],\n",
    "    config=config\n",
    ") as run:\n",
    "    # Download the model as W&B artifact\n",
    "    path = run.use_artifact(wandb.config[\"model\"]).download()\n",
    "\n",
    "    # Call logger\n",
    "    wandb_logger = WandbLogger(\n",
    "        project=\"RUL Prediction\",\n",
    "        job_type=\"inference\",\n",
    "        notes=\"Testing Vanilla Transformer for RUL prediction\",\n",
    "        tags=[\"baseline\", \"Vanilla\", \"RUL\"]\n",
    "    )\n",
    "\n",
    "    # Call a trainer for inference\n",
    "    trainer = Trainer(\n",
    "        logger=wandb_logger,\n",
    "        accelerator=\"gpu\"\n",
    "    )\n",
    "\n",
    "    # Load the model from Lightning checkpoint\n",
    "    model = vanilla_transformer.VanTransLitModule.load_from_checkpoint(os.path.join(path, \"model.ckpt\"))\n",
    "\n",
    "    # Trigger inference\n",
    "    predictions = trainer.predict(model=model, dataloaders=rtf_loader)"
   ]
  },
  {
   "cell_type": "markdown",
   "metadata": {},
   "source": [
    "### Plotting the result"
   ]
  },
  {
   "cell_type": "code",
   "execution_count": null,
   "metadata": {},
   "outputs": [],
   "source": [
    "# Create new figure\n",
    "fig, ax = plt.subplots(figsize=(8, 4))\n",
    "plt.rcParams[\"font.family\"] = \"Times New Roman\"\n",
    "\n",
    "# Get the true and predicted RUL and renormalize values\n",
    "y_true = rtf_loader.dataset.tensors[1].numpy() * RUL_max\n",
    "y_pred = predictions[0].numpy() * RUL_max\n",
    "\n",
    "# Plot the true RUL\n",
    "plt.plot(\n",
    "    y_true,\n",
    "    color=\"tab:blue\",\n",
    "    label=f\"True RUL for unit {unit}\"\n",
    ")\n",
    "\n",
    "# Plot a confidence interval\n",
    "ci_lower = np.squeeze(y_true - ci*RUL_max)\n",
    "ci_upper = np.squeeze(y_true + ci*RUL_max)\n",
    "t = np.arange(len(y_true))\n",
    "ax.fill_between(t, ci_lower, ci_upper, color='grey', alpha=.3)\n",
    "\n",
    "# Plot the predicted RUL\n",
    "plt.plot(\n",
    "    y_pred,\n",
    "    color=\"tab:orange\",\n",
    "    label=\"Predicted RUL\"\n",
    ")\n",
    "\n",
    "# Format the plot\n",
    "plt.legend(fontsize=12)\n",
    "plt.grid()\n",
    "plt.xlabel(\"Inspection intervals\", fontsize=12)\n",
    "plt.ylabel(\"RUL\", fontsize=12)\n",
    "title_str = \"Vanilla Transformer for RUL Prediction\"\n",
    "plt.title(title_str, fontsize=12)\n",
    "fig.tight_layout()\n",
    "\n",
    "# Save the plot\n",
    "save_path = f\"./RULfTimeSteps_unit_{subdataset}_{unit}.svg\"\n",
    "plt.savefig(save_path, format='svg', dpi=1200)\n",
    "save_path = f\"./RULfTimeSteps_unit_{subdataset}_{unit}.png\"\n",
    "plt.savefig(save_path, format='png', dpi=1200)"
   ]
  }
 ],
 "metadata": {
  "kernelspec": {
   "display_name": "Python 3",
   "language": "python",
   "name": "python3"
  },
  "language_info": {
   "codemirror_mode": {
    "name": "ipython",
    "version": 3
   },
   "file_extension": ".py",
   "mimetype": "text/x-python",
   "name": "python",
   "nbconvert_exporter": "python",
   "pygments_lexer": "ipython3",
   "version": "3.10.12"
  }
 },
 "nbformat": 4,
 "nbformat_minor": 2
}
