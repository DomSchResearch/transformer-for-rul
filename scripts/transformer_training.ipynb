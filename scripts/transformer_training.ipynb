{
 "cells": [
  {
   "cell_type": "markdown",
   "metadata": {},
   "source": [
    "# Model training pipeline"
   ]
  },
  {
   "cell_type": "markdown",
   "metadata": {},
   "source": [
    "### Import of necessary python modules"
   ]
  },
  {
   "cell_type": "code",
   "execution_count": null,
   "metadata": {},
   "outputs": [],
   "source": [
    "import wandb\n",
    "import h5py\n",
    "import torch\n",
    "import numpy as np\n",
    "from torch.utils.data import DataLoader, TensorDataset\n",
    "from lightning.pytorch import Trainer\n",
    "from lightning.pytorch.loggers import WandbLogger\n",
    "from lightning.pytorch.callbacks import ModelCheckpoint, LearningRateMonitor\n",
    "import sys\n",
    "sys.path.append(\"../model\")\n",
    "import vanilla_transformer"
   ]
  },
  {
   "cell_type": "markdown",
   "metadata": {},
   "source": [
    "### Weights & Biases"
   ]
  },
  {
   "cell_type": "code",
   "execution_count": null,
   "metadata": {},
   "outputs": [],
   "source": [
    "wandb.login()"
   ]
  },
  {
   "cell_type": "markdown",
   "metadata": {},
   "source": [
    "### Define a run config"
   ]
  },
  {
   "cell_type": "code",
   "execution_count": null,
   "metadata": {},
   "outputs": [],
   "source": [
    "config = {\n",
    "    \"trainer\": {\n",
    "        \"epochs\": 300,\n",
    "        \"batch_size\": 256\n",
    "    },\n",
    "    \"architecture\": \"Vanilla Transformer\",\n",
    "    \"dataset\": \"FD001\"\n",
    "}\n",
    "cwd = \"../data\""
   ]
  },
  {
   "cell_type": "markdown",
   "metadata": {},
   "source": [
    "### Create a run"
   ]
  },
  {
   "cell_type": "code",
   "execution_count": null,
   "metadata": {},
   "outputs": [],
   "source": [
    "# Create a run instance\n",
    "with wandb.init(\n",
    "    project=\"RUL Prediction\",\n",
    "    job_type=\"training\",\n",
    "    notes=\"Training Vanilla Transformer for RUL prediction\",\n",
    "    tags=[\"baseline\", \"Vanilla\", \"RUL\"],\n",
    "    config=config\n",
    ") as run:\n",
    "    # Load the data\n",
    "    save_dir = f\"{cwd}/{wandb.config['dataset']}/{wandb.config['dataset']}.h5\"\n",
    "    database = h5py.File(save_dir, \"r\")\n",
    "\n",
    "    # Prepare the data\n",
    "    training_set = TensorDataset(\n",
    "        torch.tensor(np.array(database[\"X_train\"]), dtype=torch.float),\n",
    "        torch.tensor(np.array(database[\"Y_train\"]), dtype=torch.float)\n",
    "    )\n",
    "    validation_set = TensorDataset(\n",
    "        torch.tensor(np.array(database[\"X_test\"]), dtype=torch.float),\n",
    "        torch.tensor(np.array(database[\"Y_test\"]), dtype=torch.float)\n",
    "    )\n",
    "\n",
    "    print(\"Train set size X: {}\".format(training_set.tensors[0].shape))\n",
    "    print(\"Train set size y: {}\".format(training_set.tensors[1].shape))\n",
    "    print(\"Validation set size X: {}\".format(validation_set.tensors[0].shape))\n",
    "    print(\"Validation set size y: {}\".format(validation_set.tensors[1].shape))\n",
    "\n",
    "    # Create data loaders\n",
    "    training_loader = DataLoader(\n",
    "        training_set,\n",
    "        batch_size=wandb.config[\"trainer\"][\"batch_size\"],\n",
    "        shuffle=True,\n",
    "        num_workers=4\n",
    "    )\n",
    "    validation_loader = DataLoader(\n",
    "        validation_set,\n",
    "        batch_size=wandb.config[\"trainer\"][\"batch_size\"],\n",
    "        num_workers=4\n",
    "    )\n",
    "\n",
    "    # Create the model\n",
    "    model = vanilla_transformer.VanTransLitModule()\n",
    "\n",
    "    # Define the callbacks\n",
    "    callbacks = [\n",
    "        ModelCheckpoint(\n",
    "            monitor=\"val_RMSE\",\n",
    "            mode=\"min\"\n",
    "        ),\n",
    "        LearningRateMonitor(logging_interval=\"epoch\")\n",
    "    ]\n",
    "\n",
    "    # Define the logger\n",
    "    logger = WandbLogger(\n",
    "        name=\"Vanilla Transformer\",\n",
    "        checkpoint_name=\"best_model\",\n",
    "        project=\"RUL Prediction\",\n",
    "        log_model=True\n",
    "    )\n",
    "\n",
    "    # Define the trainer\n",
    "    trainer = Trainer(\n",
    "        logger=logger,\n",
    "        callbacks=callbacks,\n",
    "        accelerator=\"auto\",\n",
    "        max_epochs=wandb.config[\"trainer\"][\"epochs\"]\n",
    "    )\n",
    "\n",
    "    # Train the model\n",
    "    trainer.fit(model, training_loader, validation_loader)\n",
    "\n",
    "    wandb.finish()"
   ]
  }
 ],
 "metadata": {
  "kernelspec": {
   "display_name": "Python 3",
   "language": "python",
   "name": "python3"
  },
  "language_info": {
   "codemirror_mode": {
    "name": "ipython",
    "version": 3
   },
   "file_extension": ".py",
   "mimetype": "text/x-python",
   "name": "python",
   "nbconvert_exporter": "python",
   "pygments_lexer": "ipython3",
   "version": "3.10.12"
  }
 },
 "nbformat": 4,
 "nbformat_minor": 2
}
